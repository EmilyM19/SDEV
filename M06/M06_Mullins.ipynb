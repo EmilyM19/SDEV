{
 "cells": [
  {
   "cell_type": "markdown",
   "id": "90990a06",
   "metadata": {},
   "source": [
    "13.1 Write the current date as a string to the text file today.txt."
   ]
  },
  {
   "cell_type": "code",
   "execution_count": 1,
   "id": "c397f875",
   "metadata": {},
   "outputs": [],
   "source": [
    "import datetime\n",
    "\n",
    "# create today object to hold date, use strftime to convert to string and set format\n",
    "today = datetime.datetime.today().strftime(\"%m-%d-%Y\")\n",
    "\n",
    "# write today to file today.txt\n",
    "with open(\"today.txt\", \"w\") as f:\n",
    "    f.write(today)\n",
    "    f.close()\n",
    "    "
   ]
  },
  {
   "cell_type": "markdown",
   "id": "29594a8c",
   "metadata": {},
   "source": [
    "13.2 Read the text file today.txt into the string today_string."
   ]
  },
  {
   "cell_type": "code",
   "execution_count": 2,
   "id": "15a2c853",
   "metadata": {},
   "outputs": [],
   "source": [
    "with open(\"today.txt\", 'r') as f:\n",
    "    today_string = f.read()"
   ]
  },
  {
   "cell_type": "markdown",
   "id": "efec45c7",
   "metadata": {},
   "source": [
    "13.3 Parse the date from today_string."
   ]
  },
  {
   "cell_type": "code",
   "execution_count": 6,
   "id": "bd7a2004",
   "metadata": {},
   "outputs": [
    {
     "name": "stdout",
     "output_type": "stream",
     "text": [
      "2023-12-03 00:00:00\n"
     ]
    }
   ],
   "source": [
    "from datetime import datetime\n",
    "\n",
    "fmt = \"%m-%d-%Y\"\n",
    "todays_date = datetime.strptime(today_string, fmt)\n",
    "print(todays_date)"
   ]
  },
  {
   "cell_type": "markdown",
   "id": "ed302cde",
   "metadata": {},
   "source": [
    "15.1"
   ]
  },
  {
   "cell_type": "markdown",
   "id": "b17196b0",
   "metadata": {},
   "source": [
    "Use multiprocessing to create three separate processes. \n",
    "Make each one wait a random number of seconds between zero and one, \n",
    "print the current time, and then exit"
   ]
  },
  {
   "cell_type": "code",
   "execution_count": 8,
   "id": "ff4f3896",
   "metadata": {},
   "outputs": [],
   "source": [
    "import multiprocessing\n",
    "import time, random\n",
    "from datetime import datetime\n",
    "\n",
    "\n",
    "def process_function():\n",
    "    # Generating a random sleep time between 0 and 1 seconds\n",
    "    sleep_time = random.uniform(0, 1)\n",
    "    \n",
    "    # Having the process sleep for selected random time\n",
    "    time.sleep(sleep_time)\n",
    "    \n",
    "    # Printing the current time and the pid\n",
    "    current_time = datetime.now().strftime(\"%m-%d-%Y %H:%M:%S\")\n",
    "    print(f\"Process ID: {multiprocessing.current_process().pid} - Current Time: {current_time}\")\n",
    "\n",
    "\n",
    "if __name__ == \"__main__\":\n",
    "    # Creates three processes\n",
    "    processes = [multiprocessing.Process(target=process_function) for num in range(3)]\n",
    "    \n",
    "    # Starts each process\n",
    "    for process in processes:\n",
    "        process.start()\n",
    "    \n",
    "    #Using join() to wait for all processes to finish\n",
    "    process_queu = multiprocessing.JoinableQueue()\n",
    "    for process in processes:\n",
    "        process_queu.join()"
   ]
  },
  {
   "cell_type": "code",
   "execution_count": null,
   "id": "9ea28b26",
   "metadata": {},
   "outputs": [],
   "source": []
  }
 ],
 "metadata": {
  "kernelspec": {
   "display_name": "Python 3 (ipykernel)",
   "language": "python",
   "name": "python3"
  },
  "language_info": {
   "codemirror_mode": {
    "name": "ipython",
    "version": 3
   },
   "file_extension": ".py",
   "mimetype": "text/x-python",
   "name": "python",
   "nbconvert_exporter": "python",
   "pygments_lexer": "ipython3",
   "version": "3.11.5"
  }
 },
 "nbformat": 4,
 "nbformat_minor": 5
}
