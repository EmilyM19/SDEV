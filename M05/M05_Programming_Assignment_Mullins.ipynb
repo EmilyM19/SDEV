{
 "cells": [
  {
   "cell_type": "markdown",
   "id": "5bb701d5",
   "metadata": {},
   "source": [
    "Testing your code"
   ]
  },
  {
   "cell_type": "code",
   "execution_count": 1,
   "id": "005f0ff3",
   "metadata": {},
   "outputs": [],
   "source": [
    "assert sum([1, 2, 3]) == 6"
   ]
  },
  {
   "cell_type": "code",
   "execution_count": 2,
   "id": "83588e60",
   "metadata": {},
   "outputs": [
    {
     "ename": "AssertionError",
     "evalue": "",
     "output_type": "error",
     "traceback": [
      "\u001b[1;31m---------------------------------------------------------------------------\u001b[0m",
      "\u001b[1;31mAssertionError\u001b[0m                            Traceback (most recent call last)",
      "Cell \u001b[1;32mIn[2], line 1\u001b[0m\n\u001b[1;32m----> 1\u001b[0m \u001b[38;5;28;01massert\u001b[39;00m \u001b[38;5;28msum\u001b[39m([\u001b[38;5;241m1\u001b[39m,\u001b[38;5;241m1\u001b[39m,\u001b[38;5;241m1\u001b[39m]) \u001b[38;5;241m==\u001b[39m \u001b[38;5;241m6\u001b[39m\n",
      "\u001b[1;31mAssertionError\u001b[0m: "
     ]
    }
   ],
   "source": [
    "assert sum([1,1,1]) == 6"
   ]
  },
  {
   "cell_type": "markdown",
   "id": "374a144a",
   "metadata": {},
   "source": [
    "Code from the completed sections done in VSCode:"
   ]
  },
  {
   "cell_type": "code",
   "execution_count": null,
   "id": "f8200cf4",
   "metadata": {},
   "outputs": [],
   "source": [
    "import unittest\n",
    "\n",
    "from my_sum import sum\n",
    "\n",
    "from fractions import Fraction\n",
    "\n",
    "class TestSum(unittest.TestCase):\n",
    "    def test_list_int(self):\n",
    "        \"\"\"\n",
    "        Test that it can sum a list of integers\n",
    "        \"\"\"\n",
    "        data = [1, 2, 3]\n",
    "        result = sum(data)\n",
    "        self.assertEqual(result, 6)\n",
    " \n",
    "    def test_list_fraction(self):\n",
    "        \"\"\"\n",
    "        Test that it can sum a list of fractions\n",
    "        \"\"\"\n",
    "        data = [Fraction(1, 4), Fraction(1, 4), Fraction(2, 5)]\n",
    "        result = sum(data)\n",
    "        self.assertEqual(result, 1)\n",
    "\n",
    "\n",
    "if __name__ == '__main__':\n",
    "    unittest.main()"
   ]
  },
  {
   "cell_type": "markdown",
   "id": "093abea3",
   "metadata": {},
   "source": [
    "At the end of the tutorial, the output shows a variety of helpful information about the tests. \n",
    "The first line will show passed and failed tests. It will display an 'F' for failed tests and a period '.' for passed tests.\n",
    "In our case, it shows 'F.' - meaning one failed test, one passed.\n",
    "The next line shows the test method that failed, in our case - test_list_fraction.\n",
    "It then shows the module and the test case that the method originates from. In our case - the test module and the TestSum test case.\n",
    "The next line shows the traceback to the file location and line that produces the error. \n",
    "The next line will show the the results of the assertion error and what the result should have been. In our case - The fraction 9/10 was not equal to 1.\n",
    "The next to last line shows the amount of tests executed and the time it took. \n",
    "Finally, the last line shows that there was a FAILED test and the number of failures listed in parenthesis."
   ]
  }
 ],
 "metadata": {
  "kernelspec": {
   "display_name": "Python 3 (ipykernel)",
   "language": "python",
   "name": "python3"
  },
  "language_info": {
   "codemirror_mode": {
    "name": "ipython",
    "version": 3
   },
   "file_extension": ".py",
   "mimetype": "text/x-python",
   "name": "python",
   "nbconvert_exporter": "python",
   "pygments_lexer": "ipython3",
   "version": "3.11.5"
  }
 },
 "nbformat": 4,
 "nbformat_minor": 5
}
